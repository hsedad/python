{
 "cells": [
  {
   "cell_type": "code",
   "execution_count": 20,
   "id": "ae99db7e",
   "metadata": {},
   "outputs": [
    {
     "name": "stdout",
     "output_type": "stream",
     "text": [
      "[213, 15, 54, 119, 98, 35]\n"
     ]
    }
   ],
   "source": [
    "ids = {'user1': [213, 213, 213, 15, 213], \n",
    "       'user2': [54, 54, 119, 119, 119], \n",
    "       'user3': [213, 98, 98, 35]}\n",
    "labels = []\n",
    "for user in ids:\n",
    "    for label in ids[user]:\n",
    "        if label not in labels:\n",
    "            labels.append(label)\n",
    "print(labels)"
   ]
  },
  {
   "cell_type": "code",
   "execution_count": 5,
   "id": "4b0c90f8",
   "metadata": {},
   "outputs": [
    {
     "name": "stdout",
     "output_type": "stream",
     "text": [
      "{98, 35, 15, 213, 54, 119}\n"
     ]
    }
   ],
   "source": [
    "ids = {'user1': [213, 213, 213, 15, 213], \n",
    "       'user2': [54, 54, 119, 119, 119], \n",
    "       'user3': [213, 98, 98, 35]}\n",
    "labels = []\n",
    "for user in ids:\n",
    "    for label in ids[user]:\n",
    "        labels.append(label)\n",
    "print(set(labels))"
   ]
  },
  {
   "cell_type": "code",
   "execution_count": 6,
   "id": "c22820b6",
   "metadata": {},
   "outputs": [
    {
     "name": "stdout",
     "output_type": "stream",
     "text": [
      "Поисковых запросов, содержащих два слов(а): 42.86%\n",
      "Поисковых запросов, содержащих три слов(а): 57.14%\n"
     ]
    }
   ],
   "source": [
    "queries = [\n",
    "    'смотреть сериалы онлайн',\n",
    "    'новости спорта',\n",
    "    'афиша кино',\n",
    "    'курс доллара',\n",
    "    'сериалы этим летом',\n",
    "    'курс по питону',\n",
    "    'сериалы про спорт',\n",
    "]\n",
    "count_all = 0\n",
    "count_two = 0\n",
    "count_three = 0\n",
    "\n",
    "for query in queries:\n",
    "    count_all += 1\n",
    "    len_query = len(query.split())\n",
    "    if len_query == 2:\n",
    "        count_two += 1\n",
    "    if len_query == 3:\n",
    "        count_three += 1\n",
    "        \n",
    "print ('Поисковых запросов, содержащих два слов(а): ' + '%.2f' % (count_two/count_all * 100) + '%' )\n",
    "print ('Поисковых запросов, содержащих три слов(а): ' + '%.2f' % (count_three/count_all * 100) + '%' )"
   ]
  },
  {
   "cell_type": "code",
   "execution_count": null,
   "id": "f4b8f7e4",
   "metadata": {},
   "outputs": [],
   "source": []
  }
 ],
 "metadata": {
  "kernelspec": {
   "display_name": "Python 3 (ipykernel)",
   "language": "python",
   "name": "python3"
  },
  "language_info": {
   "codemirror_mode": {
    "name": "ipython",
    "version": 3
   },
   "file_extension": ".py",
   "mimetype": "text/x-python",
   "name": "python",
   "nbconvert_exporter": "python",
   "pygments_lexer": "ipython3",
   "version": "3.11.5"
  }
 },
 "nbformat": 4,
 "nbformat_minor": 5
}
