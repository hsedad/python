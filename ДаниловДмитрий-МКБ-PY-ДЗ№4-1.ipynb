{
 "cells": [
  {
   "cell_type": "code",
   "execution_count": 30,
   "id": "4b0e1a83",
   "metadata": {},
   "outputs": [
    {
     "name": "stdout",
     "output_type": "stream",
     "text": [
      "1840e0b9d4 Продукты\n",
      "4e4f90fcfb Электроника\n"
     ]
    }
   ],
   "source": [
    "purchases = {}\n",
    "i = 1\n",
    "with open(file='purchase_log.txt',mode = 'r',encoding='utf-8' ) as file:\n",
    "    for line in file:\n",
    "        line_dict = eval(line)\n",
    "        user_id = line_dict.get('user_id')\n",
    "        category = line_dict.get('category')\n",
    "        if user_id == 'user_id' : continue\n",
    "        purchases[user_id] = category    \n",
    "       \n",
    "for key in purchases:\n",
    "    print (key, purchases[key])\n",
    "    i+=1\n",
    "    if i > 2 : break"
   ]
  },
  {
   "cell_type": "code",
   "execution_count": 27,
   "id": "a84f11d2",
   "metadata": {
    "scrolled": false
   },
   "outputs": [
    {
     "name": "stdout",
     "output_type": "stream",
     "text": [
      "1840e0b9d4 Продукты\n",
      "4e4f90fcfb Электроника\n"
     ]
    }
   ],
   "source": [
    "import json\n",
    "purchases = {}\n",
    "i = 1\n",
    "with open(file='purchase_log.txt',mode = 'r',encoding='utf-8' ) as file:\n",
    "    for line in file:\n",
    "        line_dict = json.loads(line)\n",
    "        user_id = line_dict.get('user_id')\n",
    "        category = line_dict.get('category')\n",
    "        category = line_dict.get('category')\n",
    "        if user_id == 'user_id' : continue\n",
    "        purchases[user_id] = category    \n",
    "        \n",
    "for key in purchases:\n",
    "    print (key, purchases[key])\n",
    "    i+=1\n",
    "    if i > 2 : break"
   ]
  },
  {
   "cell_type": "code",
   "execution_count": null,
   "id": "7d2404e3",
   "metadata": {},
   "outputs": [],
   "source": []
  }
 ],
 "metadata": {
  "kernelspec": {
   "display_name": "Python 3 (ipykernel)",
   "language": "python",
   "name": "python3"
  },
  "language_info": {
   "codemirror_mode": {
    "name": "ipython",
    "version": 3
   },
   "file_extension": ".py",
   "mimetype": "text/x-python",
   "name": "python",
   "nbconvert_exporter": "python",
   "pygments_lexer": "ipython3",
   "version": "3.11.5"
  }
 },
 "nbformat": 4,
 "nbformat_minor": 5
}
