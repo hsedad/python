{
 "cells": [
  {
   "cell_type": "code",
   "execution_count": 10,
   "id": "bb36db50",
   "metadata": {},
   "outputs": [
    {
     "name": "stdout",
     "output_type": "stream",
     "text": [
      "{'dt:2023-12-22T12:29:29.607936': {'name': 'Ivan', 'amount': 343.77, 'operation': 'new', 'balance': 343.77}, 'dt:2023-12-22T12:29:29.699060': {'name': 'Ivan', 'amount': 233.28, 'operation': 'put', 'balance': 577.05}, 'dt:2023-12-22T12:29:29.769641': {'name': 'Ivan', 'amount': 138.67, 'operation': 'get', 'balance': 438.38}}\n"
     ]
    }
   ],
   "source": [
    "from decimal import Decimal\n",
    "from datetime import datetime\n",
    "import time\n",
    "history = {}\n",
    "class Account:\n",
    "    def __init__(self, name: str, balance: Decimal, history: {}):\n",
    "        self.name = name\n",
    "        self.balance = balance\n",
    "        self.history = history\n",
    "        dt = datetime.now().isoformat()\n",
    "        history['dt:'+dt]={'name':self.name,'amount':balance,'operation':'new','balance':balance}\n",
    "    \n",
    "    def put(self, amount: Decimal):\n",
    "        dt = datetime.now().isoformat()\n",
    "        self.balance += amount\n",
    "        history['dt:'+dt]={'name':self.name,'amount':amount,'operation':'put','balance':self.balance}\n",
    "        \n",
    "    def get(self, amount: Decimal):\n",
    "        dt = datetime.now().isoformat()\n",
    "        self.balance -= amount\n",
    "        history['dt:'+dt]={'name':self.name,'amount':amount,'operation':'get','balance':self.balance}\n",
    "\n",
    "customer = Account(name='Ivan', balance=343.77, history=history)\n",
    "time.sleep(.09)\n",
    "customer.put(233.28)\n",
    "time.sleep(.07)\n",
    "customer.get(138.67)\n",
    "print(history)"
   ]
  }
 ],
 "metadata": {
  "kernelspec": {
   "display_name": "Python 3 (ipykernel)",
   "language": "python",
   "name": "python3"
  },
  "language_info": {
   "codemirror_mode": {
    "name": "ipython",
    "version": 3
   },
   "file_extension": ".py",
   "mimetype": "text/x-python",
   "name": "python",
   "nbconvert_exporter": "python",
   "pygments_lexer": "ipython3",
   "version": "3.11.5"
  }
 },
 "nbformat": 4,
 "nbformat_minor": 5
}
