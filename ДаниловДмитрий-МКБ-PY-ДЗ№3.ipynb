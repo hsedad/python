{
 "cells": [
  {
   "cell_type": "code",
   "execution_count": 10,
   "id": "8640ca2a",
   "metadata": {},
   "outputs": [
    {
     "name": "stdout",
     "output_type": "stream",
     "text": [
      "26\n",
      "26\n",
      "8\n"
     ]
    }
   ],
   "source": [
    "def sum_distance(at, to):\n",
    "    if at < to : list_result = [i for i in range(at, to + 1)]\n",
    "    else: list_result = [i for i in range(to, at + 1)]    \n",
    "    return sum(list_result)\n",
    "\n",
    "print(sum_distance(5,8))\n",
    "print(sum_distance(8,5))\n",
    "print(sum_distance(8,8))"
   ]
  },
  {
   "cell_type": "code",
   "execution_count": 25,
   "id": "9457bce0",
   "metadata": {},
   "outputs": [
    {
     "name": "stdout",
     "output_type": "stream",
     "text": [
      "дная строкадная строкадная строка\n",
      "одная строка\n",
      "Исходная строка\n"
     ]
    }
   ],
   "source": [
    "def trim_and_repeat(source_line : str, offset : int = 0, repetitions : int = 1):\n",
    "    result_line = source_line[offset:len(source_line)]\n",
    "    return result_line * repetitions\n",
    "    \n",
    "print (trim_and_repeat('Исходная строка', 4, 3))\n",
    "print (trim_and_repeat('Исходная строка', 3))\n",
    "print (trim_and_repeat('Исходная строка'))\n",
    "    \n",
    "    "
   ]
  },
  {
   "cell_type": "code",
   "execution_count": null,
   "id": "ef183bf0",
   "metadata": {},
   "outputs": [],
   "source": []
  }
 ],
 "metadata": {
  "kernelspec": {
   "display_name": "Python 3 (ipykernel)",
   "language": "python",
   "name": "python3"
  },
  "language_info": {
   "codemirror_mode": {
    "name": "ipython",
    "version": 3
   },
   "file_extension": ".py",
   "mimetype": "text/x-python",
   "name": "python",
   "nbconvert_exporter": "python",
   "pygments_lexer": "ipython3",
   "version": "3.11.5"
  }
 },
 "nbformat": 4,
 "nbformat_minor": 5
}
