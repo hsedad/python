{
 "cells": [
  {
   "cell_type": "code",
   "execution_count": 24,
   "id": "ea236141",
   "metadata": {},
   "outputs": [],
   "source": [
    "import json, csv\n",
    "purchases = {}\n",
    "funnel =[['user_id','source','category']]\n",
    "\n",
    "with open(file='purchase_log.txt',mode = 'r',encoding='utf-8' ) as pur_file:\n",
    "    for line in pur_file:\n",
    "        line_dict = json.loads(line)\n",
    "        user_id = line_dict.get('user_id')\n",
    "        category = line_dict.get('category')\n",
    "        category = line_dict.get('category')\n",
    "        if user_id == 'user_id' : continue\n",
    "        purchases[user_id] = category\n",
    "\n",
    "with open(file='visit_log.csv',mode = 'r',encoding='utf-8' ) as vis_file:\n",
    "    reader = csv.DictReader(vis_file)\n",
    "    for row in reader:\n",
    "        if row['user_id'] in purchases.keys():\n",
    "            funnel.append([row['user_id'], row['source'], purchases[row['user_id']]])\n",
    "\n",
    "with open(file='funnel.csv',mode = 'w',encoding='utf-8' ) as fun_file:\n",
    "    writer = csv.writer(fun_file)\n",
    "    writer.writerows(funnel)\n"
   ]
  },
  {
   "cell_type": "code",
   "execution_count": null,
   "id": "6f228d30",
   "metadata": {},
   "outputs": [],
   "source": []
  }
 ],
 "metadata": {
  "kernelspec": {
   "display_name": "Python 3 (ipykernel)",
   "language": "python",
   "name": "python3"
  },
  "language_info": {
   "codemirror_mode": {
    "name": "ipython",
    "version": 3
   },
   "file_extension": ".py",
   "mimetype": "text/x-python",
   "name": "python",
   "nbconvert_exporter": "python",
   "pygments_lexer": "ipython3",
   "version": "3.11.5"
  }
 },
 "nbformat": 4,
 "nbformat_minor": 5
}
