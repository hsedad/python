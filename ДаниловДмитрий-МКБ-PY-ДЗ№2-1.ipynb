{
 "cells": [
  {
   "cell_type": "code",
   "execution_count": 3,
   "id": "fb5dbd13",
   "metadata": {},
   "outputs": [
    {
     "name": "stdout",
     "output_type": "stream",
     "text": [
      "t\n"
     ]
    }
   ],
   "source": [
    "word = \"testing\"\n",
    "word_len = len(word)\n",
    "\n",
    "if word_len % 2 :\n",
    "    result = word[int(word_len/2)]\n",
    "else:\n",
    "    result = word[(int(word_len/2) - 1):(int(word_len/2) + 1)]\n",
    "    \n",
    "print (result)"
   ]
  },
  {
   "cell_type": "code",
   "execution_count": 1,
   "id": "c8ba7c95",
   "metadata": {},
   "outputs": [
    {
     "name": "stdout",
     "output_type": "stream",
     "text": [
      "Идеальные пары\n",
      "Alex и Emma\n",
      "Arthur и Kate\n",
      "John и Kira\n",
      "Peter и Liza\n",
      "Richard и Trisha\n"
     ]
    }
   ],
   "source": [
    "boys = ['Peter', 'Alex', 'John', 'Arthur', 'Richard']\n",
    "girls = ['Kate', 'Liza', 'Kira', 'Emma', 'Trisha']\n",
    "boys.sort()\n",
    "girls.sort()\n",
    "if len(boys) == len(girls):\n",
    "    print(\"Идеальные пары\")\n",
    "    i = 0\n",
    "    while i < len(boys):\n",
    "        print(boys[i] + \" и \" + girls[i])\n",
    "        i += 1\n",
    "else: \n",
    "    print(\"Я не буду никого знакомить\")\n"
   ]
  },
  {
   "cell_type": "code",
   "execution_count": null,
   "id": "e53066a6",
   "metadata": {},
   "outputs": [],
   "source": []
  }
 ],
 "metadata": {
  "kernelspec": {
   "display_name": "Python 3 (ipykernel)",
   "language": "python",
   "name": "python3"
  },
  "language_info": {
   "codemirror_mode": {
    "name": "ipython",
    "version": 3
   },
   "file_extension": ".py",
   "mimetype": "text/x-python",
   "name": "python",
   "nbconvert_exporter": "python",
   "pygments_lexer": "ipython3",
   "version": "3.11.5"
  }
 },
 "nbformat": 4,
 "nbformat_minor": 5
}
