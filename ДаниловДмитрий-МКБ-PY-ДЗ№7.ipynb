{
 "cells": [
  {
   "cell_type": "code",
   "execution_count": 61,
   "id": "bb36db50",
   "metadata": {},
   "outputs": [
    {
     "name": "stdout",
     "output_type": "stream",
     "text": [
      "Номер У162УС валиден, регион 77\n",
      "Номер А343ВС валиден, регион 77\n",
      "Номер не валиден\n",
      "Номер не валиден\n",
      "Номер Е777КХ валиден, регион 77\n"
     ]
    }
   ],
   "source": [
    "import re\n",
    "def check_reg_num(reg_num: str):\n",
    "    reg_num = reg_num.upper()\n",
    "    if re.match(r'[АВЕКМНОРСТУХ]{1}[0-9]{3}[АВЕКМНОРСТУХ]{2}[0-9]{2,3}$',reg_num):#проверяем номер на соответствие шаблону\n",
    "        number = re.search(r'[АВЕКМНОРСТУХ]{1}[0-9]{3}[АВЕКМНОРСТУХ]{2}',reg_num).group(0)#берем номер\n",
    "        region = re.search(r'.{2}(?=($|\\r|\\n))',reg_num).group(0)#берем регион (две последних цифры)\n",
    "        print(f'Номер {number} валиден, регион {region}')\n",
    "    else:\n",
    "        print('Номер не валиден')\n",
    "        \n",
    "check_reg_num('У162УС777')\n",
    "check_reg_num('А343ВС77')\n",
    "check_reg_num('А943ИС77')\n",
    "check_reg_num('А675ВС7777')\n",
    "check_reg_num('е777кх777')\n"
   ]
  },
  {
   "cell_type": "code",
   "execution_count": 69,
   "id": "628b92ac",
   "metadata": {},
   "outputs": [
    {
     "name": "stdout",
     "output_type": "stream",
     "text": [
      "Напишите функцию функцию, которая будет будет будет будет удалять все все все все последовательные повторы слов из из из из заданной строки строки при помощи регулярных выражений\n",
      "\n",
      "Напишите функцию, которая будет удалять все последовательные повторы слов из заданной строки при помощи регулярных выражений\n"
     ]
    }
   ],
   "source": [
    "import re\n",
    "some_string = 'Напишите функцию функцию, которая будет будет будет будет \\\n",
    "удалять все все все все последовательные повторы слов из из из из заданной \\\n",
    "строки строки при помощи регулярных выражений'\n",
    "\n",
    "def norepeat(source:str):\n",
    "    return re.sub( r'(\\w+)(\\s+\\1)+',r'\\1',some_string)\n",
    "\n",
    "print(some_string)\n",
    "print('')\n",
    "print(norepeat(some_string))"
   ]
  },
  {
   "cell_type": "code",
   "execution_count": null,
   "id": "b6e44e90",
   "metadata": {},
   "outputs": [],
   "source": []
  }
 ],
 "metadata": {
  "kernelspec": {
   "display_name": "Python 3 (ipykernel)",
   "language": "python",
   "name": "python3"
  },
  "language_info": {
   "codemirror_mode": {
    "name": "ipython",
    "version": 3
   },
   "file_extension": ".py",
   "mimetype": "text/x-python",
   "name": "python",
   "nbconvert_exporter": "python",
   "pygments_lexer": "ipython3",
   "version": "3.11.5"
  }
 },
 "nbformat": 4,
 "nbformat_minor": 5
}
