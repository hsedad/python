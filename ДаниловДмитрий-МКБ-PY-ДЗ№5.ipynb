{
 "cells": [
  {
   "cell_type": "code",
   "execution_count": 14,
   "id": "c47cfa07",
   "metadata": {},
   "outputs": [
    {
     "name": "stdout",
     "output_type": "stream",
     "text": [
      "2002-10-02 00:00:00\n",
      "2013-11-10 00:00:00\n",
      "1977-08-18 00:00:00\n",
      "Input date format error\n"
     ]
    }
   ],
   "source": [
    "from datetime import datetime\n",
    "moscow_times_date_str = 'Wednesday,October 2,2002'\n",
    "the_guardian_date_str = 'Friday,11.10.13'\n",
    "daily_news_date_str = 'Thursday,18 August 1977'\n",
    "\n",
    "moscow_times_format = '%A,%B %d,%Y'\n",
    "the_guardian_format = '%A,%m.%d.%y'\n",
    "daily_news_format = '%A,%d %B %Y'\n",
    "\n",
    "def get_news_date(news_date, news_date_format):\n",
    "    try:\n",
    "        return datetime.strptime(news_date, news_date_format)\n",
    "    except:\n",
    "        return 'Input date format error'\n",
    "    \n",
    "print(get_news_date(moscow_times_date_str, moscow_times_format))\n",
    "print(get_news_date(the_guardian_date_str, the_guardian_format))\n",
    "print(get_news_date(daily_news_date_str, daily_news_format))\n",
    "print(get_news_date(the_guardian_date_str, daily_news_format))\n",
    "\n"
   ]
  },
  {
   "cell_type": "code",
   "execution_count": 40,
   "id": "4c59441a",
   "metadata": {},
   "outputs": [
    {
     "name": "stdout",
     "output_type": "stream",
     "text": [
      "['2022-02-24', '2022-02-25', '2022-02-26', '2022-02-27', '2022-02-28']\n"
     ]
    }
   ],
   "source": [
    "from datetime import datetime, timedelta\n",
    "def date_range(start_date:str, end_date:str):\n",
    "    result = []\n",
    "    try:\n",
    "        first = datetime.strptime(start_date, '%Y-%m-%d')\n",
    "        last = datetime.strptime(end_date, '%Y-%m-%d')\n",
    "    except:\n",
    "        return result\n",
    "    if first > last: return result\n",
    "    current = first\n",
    "    while current <= last:\n",
    "        result.append(current.strftime('%Y-%m-%d'))\n",
    "        current = current + timedelta(days=1)\n",
    "    return result\n",
    "    \n",
    "print (date_range('2022-02-24','2022-02-28'))\n",
    "    "
   ]
  },
  {
   "cell_type": "code",
   "execution_count": null,
   "id": "bb36db50",
   "metadata": {},
   "outputs": [],
   "source": []
  }
 ],
 "metadata": {
  "kernelspec": {
   "display_name": "Python 3 (ipykernel)",
   "language": "python",
   "name": "python3"
  },
  "language_info": {
   "codemirror_mode": {
    "name": "ipython",
    "version": 3
   },
   "file_extension": ".py",
   "mimetype": "text/x-python",
   "name": "python",
   "nbconvert_exporter": "python",
   "pygments_lexer": "ipython3",
   "version": "3.11.5"
  }
 },
 "nbformat": 4,
 "nbformat_minor": 5
}
